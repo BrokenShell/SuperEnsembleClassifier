{
 "cells": [
  {
   "cell_type": "markdown",
   "source": [
    "# Labs Data Science Workshop: Super Ensemble Classifier\n",
    "\n",
    "## Workshop Outline\n",
    "1. Introduction & Motivation\n",
    "2. Classier Model\n",
    "3. Ensemble Model\n",
    "4. Super Ensemble Model"
   ],
   "metadata": {
    "collapsed": false,
    "pycharm": {
     "name": "#%% md\n"
    }
   }
  },
  {
   "cell_type": "markdown",
   "source": [
    "## Step 1 - Introduction & Motivation"
   ],
   "metadata": {
    "collapsed": false,
    "pycharm": {
     "name": "#%% md\n"
    }
   }
  },
  {
   "cell_type": "markdown",
   "source": [
    "## Step 2 - Classifier Model Review"
   ],
   "metadata": {
    "collapsed": false,
    "pycharm": {
     "name": "#%% md\n"
    }
   }
  },
  {
   "cell_type": "code",
   "execution_count": 2,
   "metadata": {
    "collapsed": true,
    "pycharm": {
     "name": "#%%\n"
    }
   },
   "outputs": [],
   "source": [
    "import os\n",
    "from time import perf_counter\n",
    "\n",
    "import pandas\n",
    "from sklearn.linear_model import LogisticRegression\n",
    "from sklearn.neighbors import KNeighborsClassifier\n",
    "from sklearn.svm import SVC\n",
    "from sklearn.tree import DecisionTreeClassifier\n",
    "from sklearn.ensemble import RandomForestClassifier, AdaBoostClassifier\n",
    "from sklearn.naive_bayes import GaussianNB\n",
    "from sklearn.model_selection import train_test_split"
   ]
  },
  {
   "cell_type": "markdown",
   "source": [
    "#### Load Data"
   ],
   "metadata": {
    "collapsed": false,
    "pycharm": {
     "name": "#%% md\n"
    }
   }
  },
  {
   "cell_type": "code",
   "execution_count": 3,
   "outputs": [
    {
     "data": {
      "text/plain": "             A         B         C         D         E  Target\n3056 -0.720754 -0.037906 -1.376162  2.194837 -0.703752       3\n108  -0.912421  0.487331 -0.534908 -0.541271 -1.588584       4\n1129 -2.522669 -2.624756  2.517419  0.496563  3.207005       3\n121   0.787462  2.035988  0.173846  1.066891 -1.916809       1\n2133 -2.368517  1.633614 -1.775822 -3.083628  2.114997       2\n4057 -0.691973  1.349705  1.152929  2.101712  0.818434       3\n772  -1.227851 -1.629790 -0.073806 -1.268180 -0.445382       3\n2285 -1.770167  3.115810 -0.427442  3.209732  3.390275       0\n412  -1.411169 -1.837803 -1.346955 -1.960200 -0.431751       4\n4175 -2.815265  0.509811  1.433668 -0.828211 -1.739501       4",
      "text/html": "<div>\n<style scoped>\n    .dataframe tbody tr th:only-of-type {\n        vertical-align: middle;\n    }\n\n    .dataframe tbody tr th {\n        vertical-align: top;\n    }\n\n    .dataframe thead th {\n        text-align: right;\n    }\n</style>\n<table border=\"1\" class=\"dataframe\">\n  <thead>\n    <tr style=\"text-align: right;\">\n      <th></th>\n      <th>A</th>\n      <th>B</th>\n      <th>C</th>\n      <th>D</th>\n      <th>E</th>\n      <th>Target</th>\n    </tr>\n  </thead>\n  <tbody>\n    <tr>\n      <th>3056</th>\n      <td>-0.720754</td>\n      <td>-0.037906</td>\n      <td>-1.376162</td>\n      <td>2.194837</td>\n      <td>-0.703752</td>\n      <td>3</td>\n    </tr>\n    <tr>\n      <th>108</th>\n      <td>-0.912421</td>\n      <td>0.487331</td>\n      <td>-0.534908</td>\n      <td>-0.541271</td>\n      <td>-1.588584</td>\n      <td>4</td>\n    </tr>\n    <tr>\n      <th>1129</th>\n      <td>-2.522669</td>\n      <td>-2.624756</td>\n      <td>2.517419</td>\n      <td>0.496563</td>\n      <td>3.207005</td>\n      <td>3</td>\n    </tr>\n    <tr>\n      <th>121</th>\n      <td>0.787462</td>\n      <td>2.035988</td>\n      <td>0.173846</td>\n      <td>1.066891</td>\n      <td>-1.916809</td>\n      <td>1</td>\n    </tr>\n    <tr>\n      <th>2133</th>\n      <td>-2.368517</td>\n      <td>1.633614</td>\n      <td>-1.775822</td>\n      <td>-3.083628</td>\n      <td>2.114997</td>\n      <td>2</td>\n    </tr>\n    <tr>\n      <th>4057</th>\n      <td>-0.691973</td>\n      <td>1.349705</td>\n      <td>1.152929</td>\n      <td>2.101712</td>\n      <td>0.818434</td>\n      <td>3</td>\n    </tr>\n    <tr>\n      <th>772</th>\n      <td>-1.227851</td>\n      <td>-1.629790</td>\n      <td>-0.073806</td>\n      <td>-1.268180</td>\n      <td>-0.445382</td>\n      <td>3</td>\n    </tr>\n    <tr>\n      <th>2285</th>\n      <td>-1.770167</td>\n      <td>3.115810</td>\n      <td>-0.427442</td>\n      <td>3.209732</td>\n      <td>3.390275</td>\n      <td>0</td>\n    </tr>\n    <tr>\n      <th>412</th>\n      <td>-1.411169</td>\n      <td>-1.837803</td>\n      <td>-1.346955</td>\n      <td>-1.960200</td>\n      <td>-0.431751</td>\n      <td>4</td>\n    </tr>\n    <tr>\n      <th>4175</th>\n      <td>-2.815265</td>\n      <td>0.509811</td>\n      <td>1.433668</td>\n      <td>-0.828211</td>\n      <td>-1.739501</td>\n      <td>4</td>\n    </tr>\n  </tbody>\n</table>\n</div>"
     },
     "execution_count": 3,
     "metadata": {},
     "output_type": "execute_result"
    }
   ],
   "source": [
    "df = pandas.read_csv(os.path.join(\"data\", \"dataset.csv\"))\n",
    "df.sample(10)"
   ],
   "metadata": {
    "collapsed": false,
    "pycharm": {
     "name": "#%%\n"
    }
   }
  },
  {
   "cell_type": "markdown",
   "source": [
    "#### Shape (row, col)"
   ],
   "metadata": {
    "collapsed": false,
    "pycharm": {
     "name": "#%% md\n"
    }
   }
  },
  {
   "cell_type": "code",
   "execution_count": 4,
   "outputs": [
    {
     "data": {
      "text/plain": "(5000, 6)"
     },
     "execution_count": 4,
     "metadata": {},
     "output_type": "execute_result"
    }
   ],
   "source": [
    "df.shape"
   ],
   "metadata": {
    "collapsed": false,
    "pycharm": {
     "name": "#%%\n"
    }
   }
  },
  {
   "cell_type": "markdown",
   "source": [
    "#### Descriptive Statistics"
   ],
   "metadata": {
    "collapsed": false,
    "pycharm": {
     "name": "#%% md\n"
    }
   }
  },
  {
   "cell_type": "code",
   "execution_count": 5,
   "outputs": [
    {
     "data": {
      "text/plain": "                 A            B            C            D            E  \\\ncount  5000.000000  5000.000000  5000.000000  5000.000000  5000.000000   \nmean     -0.587581     0.614006     0.005137    -0.215878     0.006497   \nstd       1.493213     1.498148     1.728050     1.652978     1.632831   \nmin      -6.695980    -5.024347    -6.114165    -6.489088    -6.877510   \n25%      -1.575304    -0.346215    -1.198611    -1.386536    -1.075645   \n50%      -0.691885     0.703356    -0.068541    -0.253239     0.055980   \n75%       0.326658     1.638050     1.169151     0.945687     1.154812   \nmax       5.128072     6.357553     6.419446     4.993319     4.938408   \n\n            Target  \ncount  5000.000000  \nmean      2.001400  \nstd       1.413576  \nmin       0.000000  \n25%       1.000000  \n50%       2.000000  \n75%       3.000000  \nmax       4.000000  ",
      "text/html": "<div>\n<style scoped>\n    .dataframe tbody tr th:only-of-type {\n        vertical-align: middle;\n    }\n\n    .dataframe tbody tr th {\n        vertical-align: top;\n    }\n\n    .dataframe thead th {\n        text-align: right;\n    }\n</style>\n<table border=\"1\" class=\"dataframe\">\n  <thead>\n    <tr style=\"text-align: right;\">\n      <th></th>\n      <th>A</th>\n      <th>B</th>\n      <th>C</th>\n      <th>D</th>\n      <th>E</th>\n      <th>Target</th>\n    </tr>\n  </thead>\n  <tbody>\n    <tr>\n      <th>count</th>\n      <td>5000.000000</td>\n      <td>5000.000000</td>\n      <td>5000.000000</td>\n      <td>5000.000000</td>\n      <td>5000.000000</td>\n      <td>5000.000000</td>\n    </tr>\n    <tr>\n      <th>mean</th>\n      <td>-0.587581</td>\n      <td>0.614006</td>\n      <td>0.005137</td>\n      <td>-0.215878</td>\n      <td>0.006497</td>\n      <td>2.001400</td>\n    </tr>\n    <tr>\n      <th>std</th>\n      <td>1.493213</td>\n      <td>1.498148</td>\n      <td>1.728050</td>\n      <td>1.652978</td>\n      <td>1.632831</td>\n      <td>1.413576</td>\n    </tr>\n    <tr>\n      <th>min</th>\n      <td>-6.695980</td>\n      <td>-5.024347</td>\n      <td>-6.114165</td>\n      <td>-6.489088</td>\n      <td>-6.877510</td>\n      <td>0.000000</td>\n    </tr>\n    <tr>\n      <th>25%</th>\n      <td>-1.575304</td>\n      <td>-0.346215</td>\n      <td>-1.198611</td>\n      <td>-1.386536</td>\n      <td>-1.075645</td>\n      <td>1.000000</td>\n    </tr>\n    <tr>\n      <th>50%</th>\n      <td>-0.691885</td>\n      <td>0.703356</td>\n      <td>-0.068541</td>\n      <td>-0.253239</td>\n      <td>0.055980</td>\n      <td>2.000000</td>\n    </tr>\n    <tr>\n      <th>75%</th>\n      <td>0.326658</td>\n      <td>1.638050</td>\n      <td>1.169151</td>\n      <td>0.945687</td>\n      <td>1.154812</td>\n      <td>3.000000</td>\n    </tr>\n    <tr>\n      <th>max</th>\n      <td>5.128072</td>\n      <td>6.357553</td>\n      <td>6.419446</td>\n      <td>4.993319</td>\n      <td>4.938408</td>\n      <td>4.000000</td>\n    </tr>\n  </tbody>\n</table>\n</div>"
     },
     "execution_count": 5,
     "metadata": {},
     "output_type": "execute_result"
    }
   ],
   "source": [
    "df.describe()"
   ],
   "metadata": {
    "collapsed": false,
    "pycharm": {
     "name": "#%%\n"
    }
   }
  },
  {
   "cell_type": "markdown",
   "source": [
    "#### Correlation Matrix"
   ],
   "metadata": {
    "collapsed": false,
    "pycharm": {
     "name": "#%% md\n"
    }
   }
  },
  {
   "cell_type": "markdown",
   "source": [
    "Negative correlations?"
   ],
   "metadata": {
    "collapsed": false,
    "pycharm": {
     "name": "#%% md\n"
    }
   }
  },
  {
   "cell_type": "code",
   "execution_count": 6,
   "outputs": [
    {
     "data": {
      "text/plain": "               A         B         C         D         E    Target\nA       1.000000  0.187545  0.135122  0.341305 -0.110537 -0.181537\nB       0.187545  1.000000  0.037219  0.265218 -0.088616 -0.287380\nC       0.135122  0.037219  1.000000 -0.029098  0.145310 -0.159680\nD       0.341305  0.265218 -0.029098  1.000000 -0.057682 -0.252799\nE      -0.110537 -0.088616  0.145310 -0.057682  1.000000 -0.354342\nTarget -0.181537 -0.287380 -0.159680 -0.252799 -0.354342  1.000000",
      "text/html": "<div>\n<style scoped>\n    .dataframe tbody tr th:only-of-type {\n        vertical-align: middle;\n    }\n\n    .dataframe tbody tr th {\n        vertical-align: top;\n    }\n\n    .dataframe thead th {\n        text-align: right;\n    }\n</style>\n<table border=\"1\" class=\"dataframe\">\n  <thead>\n    <tr style=\"text-align: right;\">\n      <th></th>\n      <th>A</th>\n      <th>B</th>\n      <th>C</th>\n      <th>D</th>\n      <th>E</th>\n      <th>Target</th>\n    </tr>\n  </thead>\n  <tbody>\n    <tr>\n      <th>A</th>\n      <td>1.000000</td>\n      <td>0.187545</td>\n      <td>0.135122</td>\n      <td>0.341305</td>\n      <td>-0.110537</td>\n      <td>-0.181537</td>\n    </tr>\n    <tr>\n      <th>B</th>\n      <td>0.187545</td>\n      <td>1.000000</td>\n      <td>0.037219</td>\n      <td>0.265218</td>\n      <td>-0.088616</td>\n      <td>-0.287380</td>\n    </tr>\n    <tr>\n      <th>C</th>\n      <td>0.135122</td>\n      <td>0.037219</td>\n      <td>1.000000</td>\n      <td>-0.029098</td>\n      <td>0.145310</td>\n      <td>-0.159680</td>\n    </tr>\n    <tr>\n      <th>D</th>\n      <td>0.341305</td>\n      <td>0.265218</td>\n      <td>-0.029098</td>\n      <td>1.000000</td>\n      <td>-0.057682</td>\n      <td>-0.252799</td>\n    </tr>\n    <tr>\n      <th>E</th>\n      <td>-0.110537</td>\n      <td>-0.088616</td>\n      <td>0.145310</td>\n      <td>-0.057682</td>\n      <td>1.000000</td>\n      <td>-0.354342</td>\n    </tr>\n    <tr>\n      <th>Target</th>\n      <td>-0.181537</td>\n      <td>-0.287380</td>\n      <td>-0.159680</td>\n      <td>-0.252799</td>\n      <td>-0.354342</td>\n      <td>1.000000</td>\n    </tr>\n  </tbody>\n</table>\n</div>"
     },
     "execution_count": 6,
     "metadata": {},
     "output_type": "execute_result"
    }
   ],
   "source": [
    "df.corr()"
   ],
   "metadata": {
    "collapsed": false,
    "pycharm": {
     "name": "#%%\n"
    }
   }
  },
  {
   "cell_type": "markdown",
   "source": [
    "### Train/Test Split"
   ],
   "metadata": {
    "collapsed": false,
    "pycharm": {
     "name": "#%% md\n"
    }
   }
  },
  {
   "cell_type": "code",
   "execution_count": 7,
   "outputs": [],
   "source": [
    "target = df.columns[-1]\n",
    "features = df.columns.drop(target)\n",
    "X_train, X_test, y_train, y_test = train_test_split(\n",
    "    df[features],\n",
    "    df[target],\n",
    "    random_state=42,\n",
    "    test_size=0.2,\n",
    ")"
   ],
   "metadata": {
    "collapsed": false,
    "pycharm": {
     "name": "#%%\n"
    }
   }
  },
  {
   "cell_type": "markdown",
   "source": [
    "### Naive Baseline Score"
   ],
   "metadata": {
    "collapsed": false,
    "pycharm": {
     "name": "#%% md\n"
    }
   }
  },
  {
   "cell_type": "code",
   "execution_count": 8,
   "outputs": [
    {
     "name": "stdout",
     "output_type": "stream",
     "text": [
      "20.00%\n"
     ]
    }
   ],
   "source": [
    "print(f\"{1 / len(df['Target'].unique()):.2%}\")"
   ],
   "metadata": {
    "collapsed": false,
    "pycharm": {
     "name": "#%%\n"
    }
   }
  },
  {
   "cell_type": "markdown",
   "source": [
    "### Baseline Model - Logistic Regression"
   ],
   "metadata": {
    "collapsed": false,
    "pycharm": {
     "name": "#%% md\n"
    }
   }
  },
  {
   "cell_type": "code",
   "execution_count": 9,
   "outputs": [
    {
     "name": "stdout",
     "output_type": "stream",
     "text": [
      "Algorithm: LogisticRegression(max_iter=1024, random_state=42)\n",
      "Train Time: 0.03s\n",
      "Accuracy Score: 54.80%\n"
     ]
    }
   ],
   "source": [
    "base_model = LogisticRegression(max_iter=1024, random_state=42)\n",
    "start = perf_counter()\n",
    "base_model.fit(X_train, y_train)\n",
    "stop = perf_counter()\n",
    "duration = stop - start\n",
    "print(f\"Algorithm: {base_model}\")\n",
    "print(f\"Train Time: {duration:.2f}s\")\n",
    "print(f\"Accuracy Score: {base_model.score(X_test, y_test):.2%}\")"
   ],
   "metadata": {
    "collapsed": false,
    "pycharm": {
     "name": "#%%\n"
    }
   }
  },
  {
   "cell_type": "code",
   "execution_count": 10,
   "outputs": [
    {
     "name": "stdout",
     "output_type": "stream",
     "text": [
      "Algorithm: KNeighborsClassifier()\n",
      "Train Time: 0.01s\n",
      "Test Score: 75.30%\n",
      "\n",
      "Algorithm: SVC(random_state=42)\n",
      "Train Time: 0.32s\n",
      "Test Score: 74.70%\n",
      "\n",
      "Algorithm: DecisionTreeClassifier(random_state=42)\n",
      "Train Time: 0.02s\n",
      "Test Score: 62.20%\n",
      "\n",
      "Algorithm: RandomForestClassifier(random_state=42)\n",
      "Train Time: 0.63s\n",
      "Test Score: 73.80%\n",
      "\n",
      "Algorithm: AdaBoostClassifier(random_state=42)\n",
      "Train Time: 0.17s\n",
      "Test Score: 46.80%\n",
      "\n",
      "Algorithm: GaussianNB()\n",
      "Train Time: 0.00s\n",
      "Test Score: 57.10%\n",
      "\n"
     ]
    }
   ],
   "source": [
    "models = [\n",
    "    KNeighborsClassifier(),\n",
    "    SVC(random_state=42),\n",
    "    DecisionTreeClassifier(random_state=42),\n",
    "    RandomForestClassifier(random_state=42),\n",
    "    AdaBoostClassifier(random_state=42),\n",
    "    GaussianNB(),\n",
    "]\n",
    "for model in models:\n",
    "    start = perf_counter()\n",
    "    model.fit(X_train, y_train)\n",
    "    stop = perf_counter()\n",
    "    duration = stop - start\n",
    "    print(f\"Algorithm: {model}\")\n",
    "    print(f\"Train Time: {duration:.2f}s\")\n",
    "    print(f\"Test Score: {model.score(X_test, y_test):.2%}\\n\")"
   ],
   "metadata": {
    "collapsed": false,
    "pycharm": {
     "name": "#%%\n"
    }
   }
  },
  {
   "cell_type": "markdown",
   "source": [
    "Super Ensemble Classifier"
   ],
   "metadata": {
    "collapsed": false,
    "pycharm": {
     "name": "#%% md\n"
    }
   }
  },
  {
   "cell_type": "code",
   "execution_count": 11,
   "outputs": [],
   "source": [
    "from sklearn.ensemble import StackingClassifier"
   ],
   "metadata": {
    "collapsed": false,
    "pycharm": {
     "name": "#%%\n"
    }
   }
  },
  {
   "cell_type": "markdown",
   "source": [
    "Which worker makes the best executive?"
   ],
   "metadata": {
    "collapsed": false,
    "pycharm": {
     "name": "#%% md\n"
    }
   }
  },
  {
   "cell_type": "code",
   "execution_count": 12,
   "outputs": [
    {
     "name": "stdout",
     "output_type": "stream",
     "text": [
      "Workers: KNC, SVC, RFC, ABC, GNB\n",
      "Executive: KNeighborsClassifier()\n",
      "Train Time: 5.98s\n",
      "Test Score: 72.90%\n",
      "\n",
      "Workers: KNC, SVC, RFC, ABC, GNB\n",
      "Executive: SVC(random_state=42)\n",
      "Train Time: 6.30s\n",
      "Test Score: 75.10%\n",
      "\n",
      "Workers: KNC, SVC, RFC, ABC, GNB\n",
      "Executive: RandomForestClassifier(random_state=42)\n",
      "Train Time: 6.87s\n",
      "Test Score: 77.10%\n",
      "\n",
      "Workers: KNC, SVC, RFC, ABC, GNB\n",
      "Executive: AdaBoostClassifier(random_state=42)\n",
      "Train Time: 6.34s\n",
      "Test Score: 66.90%\n",
      "\n",
      "Workers: KNC, SVC, RFC, ABC, GNB\n",
      "Executive: GaussianNB()\n",
      "Train Time: 6.39s\n",
      "Test Score: 74.10%\n",
      "\n"
     ]
    }
   ],
   "source": [
    "executives = [\n",
    "    KNeighborsClassifier(),\n",
    "    SVC(random_state=42),\n",
    "    RandomForestClassifier(random_state=42),\n",
    "    AdaBoostClassifier(random_state=42),\n",
    "    GaussianNB(),\n",
    "]\n",
    "for executive in executives:\n",
    "    model = StackingClassifier(\n",
    "        estimators=[\n",
    "            (\"KNC\", KNeighborsClassifier()),\n",
    "            (\"SVC\", SVC(random_state=42)),\n",
    "            (\"RFC\", RandomForestClassifier(random_state=42)),\n",
    "            (\"ABC\", AdaBoostClassifier(random_state=42)),\n",
    "            (\"GNB\", GaussianNB()),\n",
    "        ],\n",
    "        final_estimator=executive,\n",
    "    )\n",
    "    start = perf_counter()\n",
    "    model.fit(X_train, y_train)\n",
    "    stop = perf_counter()\n",
    "    duration = stop - start\n",
    "    print(f\"Workers: {', '.join(model.named_estimators)}\")\n",
    "    print(f\"Executive: {model.final_estimator}\")\n",
    "    print(f\"Train Time: {duration:.2f}s\")\n",
    "    print(f\"Test Score: {model.score(X_test, y_test):.2%}\\n\")"
   ],
   "metadata": {
    "collapsed": false,
    "pycharm": {
     "name": "#%%\n"
    }
   }
  },
  {
   "cell_type": "markdown",
   "source": [
    "Validate all workers are contributing by ignoring each one in turn"
   ],
   "metadata": {
    "collapsed": false,
    "pycharm": {
     "name": "#%% md\n"
    }
   }
  },
  {
   "cell_type": "code",
   "execution_count": 13,
   "outputs": [
    {
     "name": "stdout",
     "output_type": "stream",
     "text": [
      "Workers: SVC, RFC, ABC, GNB\n",
      "Executive: RandomForestClassifier(random_state=42)\n",
      "Train Time: 6.94s\n",
      "Test Score: 75.90%\n",
      "\n",
      "Workers: KNC, RFC, ABC, GNB\n",
      "Executive: RandomForestClassifier(random_state=42)\n",
      "Train Time: 4.79s\n",
      "Test Score: 75.40%\n",
      "\n",
      "Workers: KNC, SVC, ABC, GNB\n",
      "Executive: RandomForestClassifier(random_state=42)\n",
      "Train Time: 3.78s\n",
      "Test Score: 76.20%\n",
      "\n",
      "Workers: KNC, SVC, RFC, GNB\n",
      "Executive: RandomForestClassifier(random_state=42)\n",
      "Train Time: 5.68s\n",
      "Test Score: 76.20%\n",
      "\n",
      "Workers: KNC, SVC, RFC, ABC\n",
      "Executive: RandomForestClassifier(random_state=42)\n",
      "Train Time: 6.66s\n",
      "Test Score: 76.10%\n",
      "\n"
     ]
    }
   ],
   "source": [
    "workers = [\n",
    "    (\"KNC\", KNeighborsClassifier()),\n",
    "    (\"SVC\", SVC(random_state=42)),\n",
    "    (\"RFC\", RandomForestClassifier(random_state=42)),\n",
    "    (\"ABC\", AdaBoostClassifier(random_state=42)),\n",
    "    (\"GNB\", GaussianNB()),\n",
    "]\n",
    "for i in range(len(workers)):\n",
    "    worker_set = workers[:i] + workers[i + 1:]\n",
    "    model = StackingClassifier(\n",
    "        estimators=worker_set,\n",
    "        final_estimator=RandomForestClassifier(random_state=42),\n",
    "    )\n",
    "    start = perf_counter()\n",
    "    model.fit(X_train, y_train)\n",
    "    stop = perf_counter()\n",
    "    duration = stop - start\n",
    "    print(f\"Workers: {', '.join(model.named_estimators)}\")\n",
    "    print(f\"Executive: {model.final_estimator}\")\n",
    "    print(f\"Train Time: {duration:.2f}s\")\n",
    "    print(f\"Test Score: {model.score(X_test, y_test):.2%}\\n\")"
   ],
   "metadata": {
    "collapsed": false,
    "pycharm": {
     "name": "#%%\n"
    }
   }
  },
  {
   "cell_type": "markdown",
   "source": [
    "Best Stacking Classifier"
   ],
   "metadata": {
    "collapsed": false,
    "pycharm": {
     "name": "#%% md\n"
    }
   }
  },
  {
   "cell_type": "code",
   "execution_count": 14,
   "outputs": [
    {
     "name": "stdout",
     "output_type": "stream",
     "text": [
      "Workers: KNC, SVC, RFC, ABC, GNB\n",
      "Executive: RandomForestClassifier(random_state=42)\n",
      "Train Time: 6.87s\n",
      "Test Score: 77.10%\n",
      "\n"
     ]
    }
   ],
   "source": [
    "model = StackingClassifier(\n",
    "    estimators=[\n",
    "        (\"KNC\", KNeighborsClassifier()),\n",
    "        (\"SVC\", SVC(random_state=42)),\n",
    "        (\"RFC\", RandomForestClassifier(random_state=42)),\n",
    "        (\"ABC\", AdaBoostClassifier(random_state=42)),\n",
    "        (\"GNB\", GaussianNB()),\n",
    "    ],\n",
    "    final_estimator=RandomForestClassifier(random_state=42),\n",
    ")\n",
    "start = perf_counter()\n",
    "model.fit(X_train, y_train)\n",
    "stop = perf_counter()\n",
    "duration = stop - start\n",
    "print(f\"Workers: {', '.join(model.named_estimators)}\")\n",
    "print(f\"Executive: {model.final_estimator}\")\n",
    "print(f\"Train Time: {duration:.2f}s\")\n",
    "print(f\"Test Score: {model.score(X_test, y_test):.2%}\\n\")\n"
   ],
   "metadata": {
    "collapsed": false,
    "pycharm": {
     "name": "#%%\n"
    }
   }
  },
  {
   "cell_type": "markdown",
   "source": [
    "Voting Classifier"
   ],
   "metadata": {
    "collapsed": false,
    "pycharm": {
     "name": "#%% md\n"
    }
   }
  },
  {
   "cell_type": "code",
   "execution_count": 15,
   "outputs": [],
   "source": [
    "from sklearn.ensemble import VotingClassifier"
   ],
   "metadata": {
    "collapsed": false,
    "pycharm": {
     "name": "#%%\n"
    }
   }
  },
  {
   "cell_type": "code",
   "execution_count": 17,
   "outputs": [
    {
     "name": "stdout",
     "output_type": "stream",
     "text": [
      "Workers: KNC, SVC, RFC, ABC, GNB\n",
      "Train Time: 1.13s\n",
      "Test Score: 73.70%\n",
      "\n"
     ]
    }
   ],
   "source": [
    "model = VotingClassifier(\n",
    "    estimators=[\n",
    "        (\"KNC\", KNeighborsClassifier()),\n",
    "        (\"SVC\", SVC(random_state=42)),\n",
    "        (\"RFC\", RandomForestClassifier(random_state=42)),\n",
    "        (\"ABC\", AdaBoostClassifier(random_state=42)),\n",
    "        (\"GNB\", GaussianNB()),\n",
    "    ],\n",
    ")\n",
    "start = perf_counter()\n",
    "model.fit(X_train, y_train)\n",
    "stop = perf_counter()\n",
    "duration = stop - start\n",
    "print(f\"Workers: {', '.join(model.named_estimators)}\")\n",
    "print(f\"Train Time: {duration:.2f}s\")\n",
    "print(f\"Test Score: {model.score(X_test, y_test):.2%}\\n\")\n"
   ],
   "metadata": {
    "collapsed": false,
    "pycharm": {
     "name": "#%%\n"
    }
   }
  },
  {
   "cell_type": "code",
   "execution_count": null,
   "outputs": [],
   "source": [],
   "metadata": {
    "collapsed": false,
    "pycharm": {
     "name": "#%%\n"
    }
   }
  }
 ],
 "metadata": {
  "kernelspec": {
   "display_name": "Python 3",
   "language": "python",
   "name": "python3"
  },
  "language_info": {
   "codemirror_mode": {
    "name": "ipython",
    "version": 2
   },
   "file_extension": ".py",
   "mimetype": "text/x-python",
   "name": "python",
   "nbconvert_exporter": "python",
   "pygments_lexer": "ipython2",
   "version": "2.7.6"
  }
 },
 "nbformat": 4,
 "nbformat_minor": 0
}